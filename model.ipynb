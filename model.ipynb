{
 "cells": [
  {
   "cell_type": "code",
   "execution_count": 252,
   "id": "c90f0276",
   "metadata": {},
   "outputs": [],
   "source": [
    "import pickle\n",
    "import numpy as np\n",
    "import pandas as pd\n",
    "from sklearn.preprocessing import LabelEncoder\n",
    "import xgboost as xgb"
   ]
  },
  {
   "cell_type": "code",
   "execution_count": null,
   "id": "e95fc75e",
   "metadata": {},
   "outputs": [],
   "source": [
    "f_in = open(outputModelFile, 'rb')\n",
    "pickle.dump((dv, model), f_out)\n",
    "f_out.close()"
   ]
  },
  {
   "cell_type": "code",
   "execution_count": 256,
   "id": "8422d47e",
   "metadata": {},
   "outputs": [],
   "source": [
    "loaded_model = xgb.Booster()\n",
    "loaded_model.load_model('model_fraud.model')"
   ]
  },
  {
   "cell_type": "code",
   "execution_count": 257,
   "id": "025315a6",
   "metadata": {},
   "outputs": [
    {
     "data": {
      "text/plain": [
       "<xgboost.core.Booster at 0x7f7653191dc0>"
      ]
     },
     "execution_count": 257,
     "metadata": {},
     "output_type": "execute_result"
    }
   ],
   "source": [
    "model"
   ]
  },
  {
   "cell_type": "code",
   "execution_count": 285,
   "id": "b2abf764",
   "metadata": {},
   "outputs": [],
   "source": [
    "transaction = {\n",
    "    'amount': [181.000000],\n",
    "    'nameOrig': ['C840083671'],\n",
    "    'oldbalanceOrg': [181.0],\n",
    "    'nameDest': ['C38997010'],\n",
    "    'newbalanceOrig': [0.0],\n",
    "    'oldbalanceDest': [0.0],\n",
    "    'newbalanceDest': [0.0],\n",
    "    'step': [1],\n",
    "    'type': ['TRANSFER']\n",
    "}\n"
   ]
  },
  {
   "cell_type": "code",
   "execution_count": 286,
   "id": "36791f9d",
   "metadata": {},
   "outputs": [],
   "source": [
    "def normalize_input(x):\n",
    "#     columns = ['step','type', 'amount', 'oldbalanceOrg', 'newbalanceOrig', 'oldbalanceDest', 'newbalanceDest']\n",
    "    numeric_columns = ['step','type', 'amount', 'oldbalanceOrg', 'newbalanceOrig', 'oldbalanceDest', 'newbalanceDest']\n",
    "    X = pd.DataFrame().from_dict(transaction)\n",
    "    X['isC2C'] = np.array(transaction['nameOrig'][0].startswith('C') & transaction['nameDest'][0].startswith('C')).astype(int)\n",
    "    X.drop(['nameOrig', 'nameDest'],axis=1, inplace=True)\n",
    "    return X"
   ]
  },
  {
   "cell_type": "code",
   "execution_count": 287,
   "id": "7d32cfb5",
   "metadata": {},
   "outputs": [
    {
     "name": "stdout",
     "output_type": "stream",
     "text": [
      "<class 'pandas.core.frame.DataFrame'>\n",
      "RangeIndex: 1 entries, 0 to 0\n",
      "Data columns (total 8 columns):\n",
      " #   Column          Non-Null Count  Dtype  \n",
      "---  ------          --------------  -----  \n",
      " 0   amount          1 non-null      float64\n",
      " 1   oldbalanceOrg   1 non-null      float64\n",
      " 2   newbalanceOrig  1 non-null      float64\n",
      " 3   oldbalanceDest  1 non-null      float64\n",
      " 4   newbalanceDest  1 non-null      float64\n",
      " 5   step            1 non-null      int64  \n",
      " 6   type            1 non-null      object \n",
      " 7   isC2C           1 non-null      int64  \n",
      "dtypes: float64(5), int64(2), object(1)\n",
      "memory usage: 192.0+ bytes\n"
     ]
    },
    {
     "data": {
      "text/html": [
       "<div>\n",
       "<style scoped>\n",
       "    .dataframe tbody tr th:only-of-type {\n",
       "        vertical-align: middle;\n",
       "    }\n",
       "\n",
       "    .dataframe tbody tr th {\n",
       "        vertical-align: top;\n",
       "    }\n",
       "\n",
       "    .dataframe thead th {\n",
       "        text-align: right;\n",
       "    }\n",
       "</style>\n",
       "<table border=\"1\" class=\"dataframe\">\n",
       "  <thead>\n",
       "    <tr style=\"text-align: right;\">\n",
       "      <th></th>\n",
       "      <th>amount</th>\n",
       "      <th>oldbalanceOrg</th>\n",
       "      <th>newbalanceOrig</th>\n",
       "      <th>oldbalanceDest</th>\n",
       "      <th>newbalanceDest</th>\n",
       "      <th>step</th>\n",
       "      <th>type</th>\n",
       "      <th>isC2C</th>\n",
       "    </tr>\n",
       "  </thead>\n",
       "  <tbody>\n",
       "    <tr>\n",
       "      <th>0</th>\n",
       "      <td>181.0</td>\n",
       "      <td>181.0</td>\n",
       "      <td>0.0</td>\n",
       "      <td>0.0</td>\n",
       "      <td>0.0</td>\n",
       "      <td>1</td>\n",
       "      <td>TRANSFER</td>\n",
       "      <td>1</td>\n",
       "    </tr>\n",
       "  </tbody>\n",
       "</table>\n",
       "</div>"
      ],
      "text/plain": [
       "   amount  oldbalanceOrg  newbalanceOrig  oldbalanceDest  newbalanceDest  \\\n",
       "0   181.0          181.0             0.0             0.0             0.0   \n",
       "\n",
       "   step      type  isC2C  \n",
       "0     1  TRANSFER      1  "
      ]
     },
     "execution_count": 287,
     "metadata": {},
     "output_type": "execute_result"
    }
   ],
   "source": [
    "X = normalize_input(transaction)\n",
    "X.info()\n",
    "X"
   ]
  },
  {
   "cell_type": "code",
   "execution_count": 288,
   "id": "a1d69bcc",
   "metadata": {},
   "outputs": [],
   "source": [
    "label_encoder = LabelEncoder()\n",
    "X['type'] = label_encoder.fit_transform(X['type'])\n",
    "\n",
    "for column in numeric_columns:\n",
    "    X[column] = np.log1p(X[column])\n",
    "desired_order = ['amount', 'isC2C', 'newbalanceDest', 'newbalanceOrig', 'oldbalanceDest', 'oldbalanceOrg', 'step', 'type']\n",
    "X = X.reindex(columns=desired_order)"
   ]
  },
  {
   "cell_type": "code",
   "execution_count": 289,
   "id": "7a7fc69e",
   "metadata": {},
   "outputs": [
    {
     "data": {
      "text/html": [
       "<div>\n",
       "<style scoped>\n",
       "    .dataframe tbody tr th:only-of-type {\n",
       "        vertical-align: middle;\n",
       "    }\n",
       "\n",
       "    .dataframe tbody tr th {\n",
       "        vertical-align: top;\n",
       "    }\n",
       "\n",
       "    .dataframe thead th {\n",
       "        text-align: right;\n",
       "    }\n",
       "</style>\n",
       "<table border=\"1\" class=\"dataframe\">\n",
       "  <thead>\n",
       "    <tr style=\"text-align: right;\">\n",
       "      <th></th>\n",
       "      <th>amount</th>\n",
       "      <th>isC2C</th>\n",
       "      <th>newbalanceDest</th>\n",
       "      <th>newbalanceOrig</th>\n",
       "      <th>oldbalanceDest</th>\n",
       "      <th>oldbalanceOrg</th>\n",
       "      <th>step</th>\n",
       "      <th>type</th>\n",
       "    </tr>\n",
       "  </thead>\n",
       "  <tbody>\n",
       "    <tr>\n",
       "      <th>0</th>\n",
       "      <td>5.204007</td>\n",
       "      <td>1</td>\n",
       "      <td>0.0</td>\n",
       "      <td>0.0</td>\n",
       "      <td>0.0</td>\n",
       "      <td>5.204007</td>\n",
       "      <td>0.693147</td>\n",
       "      <td>0</td>\n",
       "    </tr>\n",
       "  </tbody>\n",
       "</table>\n",
       "</div>"
      ],
      "text/plain": [
       "     amount  isC2C  newbalanceDest  newbalanceOrig  oldbalanceDest  \\\n",
       "0  5.204007      1             0.0             0.0             0.0   \n",
       "\n",
       "   oldbalanceOrg      step  type  \n",
       "0       5.204007  0.693147     0  "
      ]
     },
     "execution_count": 289,
     "metadata": {},
     "output_type": "execute_result"
    }
   ],
   "source": [
    "X"
   ]
  },
  {
   "cell_type": "code",
   "execution_count": 293,
   "id": "2eb1b448",
   "metadata": {},
   "outputs": [
    {
     "data": {
      "text/plain": [
       "True"
      ]
     },
     "execution_count": 293,
     "metadata": {},
     "output_type": "execute_result"
    }
   ],
   "source": [
    "test_data = xgb.DMatrix(X)\n",
    "predictionIsFraud = (model.predict(test_data)[0] > 0.5) == 1\n",
    "predictionIsFraud"
   ]
  }
 ],
 "metadata": {
  "kernelspec": {
   "display_name": "saturn (Python 3)",
   "language": "python",
   "name": "python3"
  },
  "language_info": {
   "codemirror_mode": {
    "name": "ipython",
    "version": 3
   },
   "file_extension": ".py",
   "mimetype": "text/x-python",
   "name": "python",
   "nbconvert_exporter": "python",
   "pygments_lexer": "ipython3",
   "version": "3.9.13"
  }
 },
 "nbformat": 4,
 "nbformat_minor": 5
}
